{
 "cells": [
  {
   "cell_type": "code",
   "execution_count": 2,
   "id": "3eb3438e",
   "metadata": {},
   "outputs": [
    {
     "data": {
      "text/html": [
       "<div>\n",
       "<style scoped>\n",
       "    .dataframe tbody tr th:only-of-type {\n",
       "        vertical-align: middle;\n",
       "    }\n",
       "\n",
       "    .dataframe tbody tr th {\n",
       "        vertical-align: top;\n",
       "    }\n",
       "\n",
       "    .dataframe thead th {\n",
       "        text-align: right;\n",
       "    }\n",
       "</style>\n",
       "<table border=\"1\" class=\"dataframe\">\n",
       "  <thead>\n",
       "    <tr style=\"text-align: right;\">\n",
       "      <th></th>\n",
       "      <th>TV</th>\n",
       "      <th>Sales</th>\n",
       "    </tr>\n",
       "  </thead>\n",
       "  <tbody>\n",
       "    <tr>\n",
       "      <th>0</th>\n",
       "      <td>230.1</td>\n",
       "      <td>22.1</td>\n",
       "    </tr>\n",
       "    <tr>\n",
       "      <th>1</th>\n",
       "      <td>44.5</td>\n",
       "      <td>10.4</td>\n",
       "    </tr>\n",
       "    <tr>\n",
       "      <th>2</th>\n",
       "      <td>17.2</td>\n",
       "      <td>9.3</td>\n",
       "    </tr>\n",
       "    <tr>\n",
       "      <th>3</th>\n",
       "      <td>151.5</td>\n",
       "      <td>18.5</td>\n",
       "    </tr>\n",
       "    <tr>\n",
       "      <th>4</th>\n",
       "      <td>180.8</td>\n",
       "      <td>12.9</td>\n",
       "    </tr>\n",
       "  </tbody>\n",
       "</table>\n",
       "</div>"
      ],
      "text/plain": [
       "      TV  Sales\n",
       "0  230.1   22.1\n",
       "1   44.5   10.4\n",
       "2   17.2    9.3\n",
       "3  151.5   18.5\n",
       "4  180.8   12.9"
      ]
     },
     "execution_count": 2,
     "metadata": {},
     "output_type": "execute_result"
    }
   ],
   "source": [
    "# 1. Import dataset and display first 5 rows\n",
    "\n",
    "import pandas as pd\n",
    "df=pd.read_csv(\"tvmarketing.csv\")\n",
    "df.head()\n"
   ]
  },
  {
   "cell_type": "code",
   "execution_count": 3,
   "id": "41e8b6c0",
   "metadata": {},
   "outputs": [
    {
     "data": {
      "text/plain": [
       "TV       float64\n",
       "Sales    float64\n",
       "dtype: object"
      ]
     },
     "execution_count": 3,
     "metadata": {},
     "output_type": "execute_result"
    }
   ],
   "source": [
    "# 2. Check column data types\n",
    "\n",
    "df.dtypes"
   ]
  },
  {
   "cell_type": "code",
   "execution_count": 4,
   "id": "9808e598",
   "metadata": {},
   "outputs": [
    {
     "data": {
      "text/plain": [
       "(200, 2)"
      ]
     },
     "execution_count": 4,
     "metadata": {},
     "output_type": "execute_result"
    }
   ],
   "source": [
    "# 3. Check the shape of the Data Frame (rows, columns)\n",
    "df.shape"
   ]
  },
  {
   "cell_type": "code",
   "execution_count": 5,
   "id": "02910bbc",
   "metadata": {},
   "outputs": [
    {
     "data": {
      "text/html": [
       "<div>\n",
       "<style scoped>\n",
       "    .dataframe tbody tr th:only-of-type {\n",
       "        vertical-align: middle;\n",
       "    }\n",
       "\n",
       "    .dataframe tbody tr th {\n",
       "        vertical-align: top;\n",
       "    }\n",
       "\n",
       "    .dataframe thead th {\n",
       "        text-align: right;\n",
       "    }\n",
       "</style>\n",
       "<table border=\"1\" class=\"dataframe\">\n",
       "  <thead>\n",
       "    <tr style=\"text-align: right;\">\n",
       "      <th></th>\n",
       "      <th>TV</th>\n",
       "      <th>Sales</th>\n",
       "    </tr>\n",
       "  </thead>\n",
       "  <tbody>\n",
       "    <tr>\n",
       "      <th>count</th>\n",
       "      <td>200.000000</td>\n",
       "      <td>200.000000</td>\n",
       "    </tr>\n",
       "    <tr>\n",
       "      <th>mean</th>\n",
       "      <td>147.042500</td>\n",
       "      <td>14.022500</td>\n",
       "    </tr>\n",
       "    <tr>\n",
       "      <th>std</th>\n",
       "      <td>85.854236</td>\n",
       "      <td>5.217457</td>\n",
       "    </tr>\n",
       "    <tr>\n",
       "      <th>min</th>\n",
       "      <td>0.700000</td>\n",
       "      <td>1.600000</td>\n",
       "    </tr>\n",
       "    <tr>\n",
       "      <th>25%</th>\n",
       "      <td>74.375000</td>\n",
       "      <td>10.375000</td>\n",
       "    </tr>\n",
       "    <tr>\n",
       "      <th>50%</th>\n",
       "      <td>149.750000</td>\n",
       "      <td>12.900000</td>\n",
       "    </tr>\n",
       "    <tr>\n",
       "      <th>75%</th>\n",
       "      <td>218.825000</td>\n",
       "      <td>17.400000</td>\n",
       "    </tr>\n",
       "    <tr>\n",
       "      <th>max</th>\n",
       "      <td>296.400000</td>\n",
       "      <td>27.000000</td>\n",
       "    </tr>\n",
       "  </tbody>\n",
       "</table>\n",
       "</div>"
      ],
      "text/plain": [
       "               TV       Sales\n",
       "count  200.000000  200.000000\n",
       "mean   147.042500   14.022500\n",
       "std     85.854236    5.217457\n",
       "min      0.700000    1.600000\n",
       "25%     74.375000   10.375000\n",
       "50%    149.750000   12.900000\n",
       "75%    218.825000   17.400000\n",
       "max    296.400000   27.000000"
      ]
     },
     "execution_count": 5,
     "metadata": {},
     "output_type": "execute_result"
    }
   ],
   "source": [
    "# 4. Look at summary statistics\n",
    "df.describe()\n"
   ]
  },
  {
   "cell_type": "code",
   "execution_count": 6,
   "id": "9b69d5a9",
   "metadata": {},
   "outputs": [
    {
     "name": "stderr",
     "output_type": "stream",
     "text": [
      "/home/user/.local/lib/python3.10/site-packages/matplotlib/projections/__init__.py:63: UserWarning: Unable to import Axes3D. This may be due to multiple versions of Matplotlib being installed (e.g. as a system package and as a pip package). As a result, the 3D projection is not available.\n",
      "  warnings.warn(\"Unable to import Axes3D. This may be due to multiple versions of \"\n",
      "/usr/lib/python3/dist-packages/scipy/__init__.py:146: UserWarning: A NumPy version >=1.17.3 and <1.25.0 is required for this version of SciPy (detected version 1.26.4\n",
      "  warnings.warn(f\"A NumPy version >={np_minversion} and <{np_maxversion}\"\n"
     ]
    },
    {
     "data": {
      "image/png": "[encoded data removed]",
      "text/plain": [
       "<Figure size 1080x720 with 1 Axes>"
      ]
     },
     "metadata": {
      "needs_background": "light"
     },
     "output_type": "display_data"
    }
   ],
   "source": [
    "# 5. Visualize the relationship between the features and the dependent variable using scatterplots\n",
    "\n",
    "import pandas as pd\n",
    "import seaborn as sns\n",
    "import matplotlib.pyplot as plt\n",
    "\n",
    "df=pd.read_csv(\"tvmarketing.csv\")\n",
    "\n",
    "dependent_var='Sales'\n",
    "features_var=df.columns.drop(dependent_var)\n",
    "\n",
    "plt.figure(figsize=(15,10))\n",
    "for i,feature in enumerate(features_var):\n",
    "    plt.subplot(2,2,i+1)\n",
    "    sns.scatterplot(x=feature ,y=dependent_var, data=df)\n",
    "    plt.title(f\"{feature} vs {dependent_var}\")\n",
    "    plt.xlabel(feature)\n",
    "    plt.ylabel(dependent_var)\n",
    "    \n",
    "    \n",
    "plt.tight_layout() # Adjust layout\n",
    "plt.show()  # Show all subplots together\n",
    "    \n",
    " \n",
    "\n",
    "\n",
    "###\n",
    "# we can also do this in this way also\n",
    "# d=df['Sales']   \n",
    "# f=df.drop(columns=['Sales'])\n",
    "\n",
    "# plt.figure(figsize=(15,10))\n",
    "# for col in f:\n",
    "# #     plt.subplot(2,2)\n",
    "#     sns.scatterplot(x=col,y=d,data=df)\n",
    "#     plt.title(f\" f vs d\")\n",
    "#     plt.xlabel(\"Tv\")\n",
    "#     plt.ylabel(\"Sales\")\n",
    "#     plt.show()\n",
    "    \n",
    "\n",
    "    \n",
    "    \n",
    "    \n"
   ]
  },
  {
   "cell_type": "code",
   "execution_count": 7,
   "id": "e78acd4b",
   "metadata": {},
   "outputs": [
    {
     "name": "stdout",
     "output_type": "stream",
     "text": [
      "x ( feature variables)\n",
      "\n",
      "      TV\n",
      "0  230.1\n",
      "1   44.5\n",
      "2   17.2\n",
      "3  151.5\n",
      "4  180.8\n",
      "\n",
      "\n",
      "y (response variable)\n",
      "\n",
      "0    22.1\n",
      "1    10.4\n",
      "2     9.3\n",
      "3    18.5\n",
      "4    12.9\n",
      "Name: Sales, dtype: float64\n"
     ]
    }
   ],
   "source": [
    "# 6. Prepare X (feature variables) and y (response variable)\n",
    "\n",
    "x=df.drop(columns=['Sales'])\n",
    "y=df['Sales']\n",
    "\n",
    "print(\"x ( feature variables)\\n\")\n",
    "print(x.head())\n",
    "print(\"\\n\\ny (response variable)\\n\")\n",
    "print(y.head())\n",
    "    "
   ]
  },
  {
   "cell_type": "code",
   "execution_count": 11,
   "id": "5df731a7",
   "metadata": {},
   "outputs": [
    {
     "name": "stdout",
     "output_type": "stream",
     "text": [
      "shape of the train data : (140, 1) (140,)\n",
      "shape of the test data : (60, 1) (60,)\n",
      "percentage of train data : 70.0 %\n",
      "percentage of test data : 30.0 %\n"
     ]
    }
   ],
   "source": [
    "# 7. Split Data into Training and Testing Sets (70%-Train 30%-Test) - X_train,y_train, X_test, y_test\n",
    "\n",
    "import pandas as pd\n",
    "from sklearn.model_selection import train_test_split\n",
    "x=df.drop(columns=['Sales'])\n",
    "y=df['Sales']\n",
    "\n",
    "\n",
    "x_train,x_test,y_train,y_test=train_test_split(x,y,test_size=0.3,random_state=42)\n",
    "\n",
    "\n",
    "train_percentage=((len(x_train))/len(df))*100\n",
    "test_percentage=((len(x_test))/len(df))*100\n",
    "\n",
    "\n",
    "print(\"shape of the train data :\",x_train.shape,y_train.shape)\n",
    "print(\"shape of the test data :\",x_test.shape,y_test.shape)\n",
    "\n",
    "\n",
    "print(\"percentage of train data :\",train_percentage,\"%\")\n",
    "print(\"percentage of test data :\",test_percentage,\"%\")"
   ]
  },
  {
   "cell_type": "code",
   "execution_count": 19,
   "id": "818355be",
   "metadata": {
    "scrolled": true
   },
   "outputs": [
    {
     "name": "stdout",
     "output_type": "stream",
     "text": [
      "shape of the train data : (140, 1) (140,)\n",
      "shape of the test data : (60, 1) (60,)\n"
     ]
    }
   ],
   "source": [
    "# 8. Print the shape of train data and test data\n",
    "\n",
    "print(\"shape of the train data :\",x_train.shape,y_train.shape)\n",
    "print(\"shape of the test data :\",x_test.shape,y_test.shape)\n"
   ]
  },
  {
   "cell_type": "code",
   "execution_count": 20,
   "id": "fe49bc1f",
   "metadata": {},
   "outputs": [],
   "source": [
    "# x_train = x_train  # convert to 1D float array\n",
    "# y_train = y_train\n",
    "\n",
    "# n=len(x_train)\n",
    "# x_mean=sum(x_train)/n\n",
    "# y_mean=sum(y_train)/n\n",
    "\n",
    "\n",
    "# num=sum((x_train[i]-x_mean)*(y_train[i]-y_mean) for i in range(n))\n",
    "# den=sum((x_train[i]-x_mean)**2 for i in range(n))\n",
    "\n",
    "\n",
    "# b=num/den\n",
    "# a=y_mean-b*(x_mean)\n",
    "\n",
    "\n",
    "# print(\"mean \",x_mean,\" \",y_mean)\n",
    "# print(n)\n",
    "# print(a,\" \", b)\n",
    "\n",
    "\n",
    "# print(f\"Regression Line: Y = {a:.2f} + {b:.2f}X\")\n",
    "\n",
    "\n",
    "\n",
    "# def predect(m):\n",
    "#     return a+b*(m)\n",
    "\n",
    "# x_new =8\n",
    "# y_pre=predect(x_new)\n",
    "\n",
    "# print(y_pre)\n"
   ]
  },
  {
   "cell_type": "code",
   "execution_count": 21,
   "id": "847cfc6c",
   "metadata": {
    "scrolled": true
   },
   "outputs": [
    {
     "name": "stdout",
     "output_type": "stream",
     "text": [
      "Intercept and Coefficients for the Linear Regression Model:\n",
      "[7.23945983 0.0464078 ]\n",
      "Intercept: 7.239459830751137\n",
      "Coefficients: [0.0464078]\n"
     ]
    }
   ],
   "source": [
    "# 9. Perform Linear Regression (on train data) without using any library and print the coefficients values\n",
    "import numpy as np\n",
    "\n",
    "# Prepare the data\n",
    "x_train,x_test,y_train,y_test=train_test_split(x,y,test_size=0.3,random_state=42)\n",
    "\n",
    "\n",
    "X_train = x_train.values.reshape(-1,1)  # Using the X_train from your previous train/test split\n",
    "y_train = y_train  # Convert y_train to a NumPy array for matrix operations\n",
    "\n",
    "# Add a column of ones to X_train to account for the intercept\n",
    "X_b = np.c_[np.ones((X_train.shape[0], 1)), X_train]  # Add bias (intercept) term\n",
    "\n",
    "# Calculate the coefficients using the Normal Equation\n",
    "theta = np.linalg.inv(X_b.T.dot(X_b)).dot(X_b.T).dot(y_train)\n",
    "\n",
    "# Print the coefficients\n",
    "print(\"Intercept and Coefficients for the Linear Regression Model:\")\n",
    "print(theta)\n",
    "\n",
    "# Interpret the output\n",
    "intercept = theta[0]\n",
    "coefficients = theta[1:]\n",
    "print(f\"Intercept: {intercept}\")\n",
    "print(f\"Coefficients: {coefficients}\")\n"
   ]
  },
  {
   "cell_type": "code",
   "execution_count": 18,
   "id": "3f8a15ca",
   "metadata": {},
   "outputs": [
    {
     "name": "stdout",
     "output_type": "stream",
     "text": [
      "intercept:  7.239459830751132\n",
      "slop : 0.046407802128152716\n",
      "[7.23945983 0.0464078 ]\n",
      "predected value on value [[6]] pred is [7.51790664]\n"
     ]
    }
   ],
   "source": [
    "\n",
    "X = x_train.values.reshape(-1, 1)  # or x_train.to_numpy().reshape(-1, 1)\n",
    "Y = y_train.values \n",
    "\n",
    "X_b = np.c_[np.ones((X.shape[0], 1)), X]\n",
    "\n",
    "# print(X_b)\n",
    "# print(Y)\n",
    "\n",
    "\n",
    "theta=np.linalg.inv(X_b.T @ X_b)@(X_b.T@ Y)\n",
    "\n",
    "print(\"intercept: \" ,theta[0])\n",
    "print(\"slop :\",theta[1])\n",
    "print(theta)\n",
    "\n",
    "\n",
    "# predecting\n",
    "\n",
    "def predict(M):\n",
    "    m=np.c_[np.ones((M.shape[0],1)),M]\n",
    "    return m@theta\n",
    "\n",
    "\n",
    "x_new=np.array([[6]])\n",
    "y_pred=predict(x_new)\n",
    "\n",
    "print(f\"predected value on value {x_new} pred is {y_pred}\")"
   ]
  },
  {
   "cell_type": "code",
   "execution_count": 40,
   "id": "0a59d0fa",
   "metadata": {},
   "outputs": [
    {
     "name": "stdout",
     "output_type": "stream",
     "text": [
      "predected value on value [[163.3]\n",
      " [195.4]\n",
      " [292.9]\n",
      " [ 11.7]\n",
      " [220.3]\n",
      " [ 75.1]\n",
      " [216.8]\n",
      " [ 50. ]\n",
      " [222.4]\n",
      " [175.1]\n",
      " [ 31.5]\n",
      " [ 56.2]\n",
      " [234.5]\n",
      " [  5.4]\n",
      " [139.5]\n",
      " [170.2]\n",
      " [  7.3]\n",
      " [197.6]\n",
      " [ 75.3]\n",
      " [237.4]\n",
      " [229.5]\n",
      " [ 67.8]\n",
      " [ 38. ]\n",
      " [250.9]\n",
      " [ 69. ]\n",
      " [ 53.5]\n",
      " [213.5]\n",
      " [139.3]\n",
      " [ 87.2]\n",
      " [  8.4]\n",
      " [199.8]\n",
      " [ 69.2]\n",
      " [198.9]\n",
      " [ 16.9]\n",
      " [280.7]\n",
      " [238.2]\n",
      " [ 48.3]\n",
      " [273.7]\n",
      " [117.2]\n",
      " [ 27.5]\n",
      " [116. ]\n",
      " [177. ]\n",
      " [ 43.1]\n",
      " [ 62.3]\n",
      " [224. ]\n",
      " [ 38.2]\n",
      " [ 70.6]\n",
      " [147.3]\n",
      " [104.6]\n",
      " [ 76.3]\n",
      " [ 78.2]\n",
      " [168.4]\n",
      " [  8.7]\n",
      " [  7.8]\n",
      " [ 76.4]\n",
      " [129.4]\n",
      " [ 73.4]\n",
      " [289.7]\n",
      " [ 19.6]\n",
      " [197.6]] pred is [14.81785392 16.30754437 20.83230507  7.78243112 17.46309864 10.72468577\n",
      " 17.30067133  9.55984994 17.56055502 15.36546598  8.7013056   9.84757831\n",
      " 18.12208943  7.49006196 13.71334823 15.13806775  7.57823679 16.40964153\n",
      " 10.73396733 18.25667206 17.89005042 10.38590882  9.00295631 18.88317738\n",
      " 10.44159818  9.72227724 17.14752559 13.70406667 11.28622018  7.62928537\n",
      " 16.5117387  10.45087974 16.46997167  8.02375169 20.26612989 18.2937983\n",
      "  9.48095667 19.94127527 12.67845424  8.51567439 12.62276488 15.45364081\n",
      "  9.2396361  10.1306659  17.63480751  9.01223787 10.51585066 14.07532908\n",
      " 12.09371593 10.78037513 10.86854996 15.05453371  7.64320771  7.60144069\n",
      " 10.78501591 13.24462943 10.64579251 20.68380011  8.14905275 16.40964153]\n",
      "Actual: 16.90, Predicted: 14.82\n",
      "Actual: 22.40, Predicted: 16.31\n",
      "Actual: 21.40, Predicted: 20.83\n",
      "Actual: 7.30, Predicted: 7.78\n",
      "Actual: 24.70, Predicted: 17.46\n",
      "Actual: 12.60, Predicted: 10.72\n",
      "Actual: 22.30, Predicted: 17.30\n",
      "Actual: 8.40, Predicted: 9.56\n",
      "Actual: 11.50, Predicted: 17.56\n",
      "Actual: 14.90, Predicted: 15.37\n",
      "Actual: 9.50, Predicted: 8.70\n",
      "Actual: 8.70, Predicted: 9.85\n",
      "Actual: 11.90, Predicted: 18.12\n",
      "Actual: 5.30, Predicted: 7.49\n",
      "Actual: 10.30, Predicted: 13.71\n",
      "Actual: 11.70, Predicted: 15.14\n",
      "Actual: 5.50, Predicted: 7.58\n",
      "Actual: 16.60, Predicted: 16.41\n",
      "Actual: 11.30, Predicted: 10.73\n",
      "Actual: 18.90, Predicted: 18.26\n",
      "Actual: 19.70, Predicted: 17.89\n",
      "Actual: 12.50, Predicted: 10.39\n",
      "Actual: 10.90, Predicted: 9.00\n",
      "Actual: 22.20, Predicted: 18.88\n",
      "Actual: 9.30, Predicted: 10.44\n",
      "Actual: 8.10, Predicted: 9.72\n",
      "Actual: 21.70, Predicted: 17.15\n",
      "Actual: 13.40, Predicted: 13.70\n",
      "Actual: 10.60, Predicted: 11.29\n",
      "Actual: 5.70, Predicted: 7.63\n",
      "Actual: 10.60, Predicted: 16.51\n",
      "Actual: 11.30, Predicted: 10.45\n",
      "Actual: 23.70, Predicted: 16.47\n",
      "Actual: 8.70, Predicted: 8.02\n",
      "Actual: 16.10, Predicted: 20.27\n",
      "Actual: 20.70, Predicted: 18.29\n",
      "Actual: 11.60, Predicted: 9.48\n",
      "Actual: 20.80, Predicted: 19.94\n",
      "Actual: 11.90, Predicted: 12.68\n",
      "Actual: 6.90, Predicted: 8.52\n",
      "Actual: 11.00, Predicted: 12.62\n",
      "Actual: 12.80, Predicted: 15.45\n",
      "Actual: 10.10, Predicted: 9.24\n",
      "Actual: 9.70, Predicted: 10.13\n",
      "Actual: 11.60, Predicted: 17.63\n",
      "Actual: 7.60, Predicted: 9.01\n",
      "Actual: 10.50, Predicted: 10.52\n",
      "Actual: 14.60, Predicted: 14.08\n",
      "Actual: 10.40, Predicted: 12.09\n",
      "Actual: 12.00, Predicted: 10.78\n",
      "Actual: 14.60, Predicted: 10.87\n",
      "Actual: 11.70, Predicted: 15.05\n",
      "Actual: 7.20, Predicted: 7.64\n",
      "Actual: 6.60, Predicted: 7.60\n",
      "Actual: 9.40, Predicted: 10.79\n",
      "Actual: 11.00, Predicted: 13.24\n",
      "Actual: 10.90, Predicted: 10.65\n",
      "Actual: 25.40, Predicted: 20.68\n",
      "Actual: 7.60, Predicted: 8.15\n",
      "Actual: 11.70, Predicted: 16.41\n"
     ]
    }
   ],
   "source": [
    "# 10.Create the model using the calculated coefficients and make predictions on the testing set\n",
    "\n",
    "x_test=x_test.reshape(-1,1)\n",
    "y_test=y_test\n",
    "\n",
    "\n",
    "\n",
    "def predict(M):\n",
    "    m=np.c_[np.ones((M.shape[0],1)),M]\n",
    "    return m@theta\n",
    "\n",
    "\n",
    "x_new=x_test\n",
    "y_pred=predict(x_new)\n",
    "\n",
    "print(f\"predected value on value {x_new} pred is {y_pred}\")\n",
    "\n",
    "\n",
    "\n",
    "for actual, predicted in zip(y_test, y_pred):\n",
    "    print(f\"Actual: {actual:.2f}, Predicted: {predicted:.2f}\")\n"
   ]
  },
  {
   "cell_type": "code",
   "execution_count": 16,
   "id": "618eea92",
   "metadata": {},
   "outputs": [
    {
     "name": "stdout",
     "output_type": "stream",
     "text": [
      "cofficients : [0.0464078]\n",
      "intercepts : 7.239459830751138\n",
      "mean square error : 8.970991242413614\n",
      "R^2 score : 0.6714477229302764\n",
      "predicted values : [14.81785392 16.30754437 20.83230507  7.78243112 17.46309864]\n"
     ]
    }
   ],
   "source": [
    "# 11.Perform Linear Regression using library(sklearn)\n",
    "\n",
    "import pandas as pd\n",
    "from sklearn.model_selection import train_test_split\n",
    "from sklearn.linear_model import LinearRegression\n",
    "from sklearn.metrics import mean_squared_error, r2_score\n",
    "\n",
    "df=pd.read_csv(\"tvmarketing.csv\")\n",
    "\n",
    "\n",
    "x=df.drop(columns=['Sales'])\n",
    "y=df['Sales']\n",
    "\n",
    "\n",
    "x_train,x_test,y_train,y_test=train_test_split(x,y,test_size=0.3,random_state=42)\n",
    "\n",
    "# training\n",
    "model=LinearRegression()\n",
    "model.fit(x_train,y_train)\n",
    "\n",
    "y_pred=model.predict(x_test)\n",
    "\n",
    "\n",
    "mse=mean_squared_error(y_test,y_pred)\n",
    "r2=r2_score(y_test,y_pred)\n",
    "\n",
    "c\n",
    "print(\"mean square error :\",mse)\n",
    "print(\"R^2 score :\",r2)\n",
    "\n",
    "\n",
    "\n",
    "print(\"predicted values :\",y_pred[:5])\n"
   ]
  },
  {
   "cell_type": "code",
   "execution_count": 17,
   "id": "e76f1d68",
   "metadata": {},
   "outputs": [
    {
     "name": "stdout",
     "output_type": "stream",
     "text": [
      "cofficients : [0.0464078]\n",
      "intercepts : 7.239459830751138\n"
     ]
    }
   ],
   "source": [
    "# 12.Print the intercept and coefficients\n",
    "\n",
    "\n",
    "print(\"cofficients :\",model.coef_)\n",
    "print(\"intercepts :\",model.intercept_)"
   ]
  },
  {
   "cell_type": "code",
   "execution_count": 18,
   "id": "099df74e",
   "metadata": {},
   "outputs": [
    {
     "name": "stdout",
     "output_type": "stream",
     "text": [
      "predicted values : [14.81785392 16.30754437 20.83230507  7.78243112 17.46309864]\n"
     ]
    }
   ],
   "source": [
    "# 13.Make predictions on the testing set - y_pred\n",
    "\n",
    "y_pred=model.predict(x_test)\n",
    "\n",
    "\n",
    "print(\"predicted values :\",y_pred[:5])"
   ]
  },
  {
   "cell_type": "code",
   "execution_count": 60,
   "id": "c0aeb630",
   "metadata": {},
   "outputs": [
    {
     "data": {
      "image/png": "[encoded data removed]",
      "text/plain": [
       "<Figure size 432x288 with 1 Axes>"
      ]
     },
     "metadata": {
      "needs_background": "light"
     },
     "output_type": "display_data"
    }
   ],
   "source": [
    "# 14.Plot train data and the model\n",
    "\n",
    "import matplotlib.pyplot as plt\n",
    "\n",
    "# Predict on test data\n",
    "y_train_pred = model.predict(x_train)\n",
    "\n",
    "# Plotting test data\n",
    "plt.scatter(x_train, y_train, color='purple', label='Train Data')  # Actual points\n",
    "plt.plot(x_train, y_train_pred, color='orange', label='Model Prediction')  # Prediction line\n",
    "# plt.scatter(x_train,y_train_pred,color=\"red\", label=\"predected\", marker=\"x\" )\n",
    "# Styling\n",
    "plt.xlabel(\"X\")\n",
    "plt.ylabel(\"Y\")\n",
    "plt.title(\"Linear Regression on Train Data\")\n",
    "plt.legend()\n",
    "plt.grid(True)\n",
    "plt.show()"
   ]
  },
  {
   "cell_type": "code",
   "execution_count": 61,
   "id": "df817b39",
   "metadata": {},
   "outputs": [
    {
     "name": "stderr",
     "output_type": "stream",
     "text": [
      "/home/user/.local/lib/python3.10/site-packages/sklearn/utils/validation.py:2739: UserWarning: X does not have valid feature names, but LinearRegression was fitted with feature names\n",
      "  warnings.warn(\n"
     ]
    },
    {
     "data": {
      "image/png": "[encoded data removed]",
      "text/plain": [
       "<Figure size 432x288 with 1 Axes>"
      ]
     },
     "metadata": {
      "needs_background": "light"
     },
     "output_type": "display_data"
    }
   ],
   "source": [
    "# 15.Plot test data and the model\n",
    "\n",
    "import matplotlib.pyplot as plt\n",
    "\n",
    "# Predict on test data\n",
    "y_test_pred = model.predict(x_test)\n",
    "\n",
    "# Plotting test data\n",
    "plt.scatter(x_test, y_test, color='purple', label='Test Data')  # Actual points\n",
    "plt.plot(x_test, y_test_pred, color='orange', label='Model Prediction')  # Prediction line\n",
    "# plt.scatter(x_test,y_test_pred,color=\"red\", label=\"predected\")\n",
    "\n",
    "# Styling\n",
    "plt.xlabel(\"X\")\n",
    "plt.ylabel(\"Y\")\n",
    "plt.title(\"Linear Regression on Test Data\")\n",
    "plt.legend()\n",
    "plt.grid(True)\n",
    "plt.show()\n"
   ]
  },
  {
   "cell_type": "code",
   "execution_count": 21,
   "id": "c81159dc",
   "metadata": {},
   "outputs": [
    {
     "name": "stdout",
     "output_type": "stream",
     "text": [
      "mean square error : 8.970991242413614\n",
      "R^2 score : 0.6714477229302764\n"
     ]
    }
   ],
   "source": [
    "# 16.Print Mean Squared Error and R Squared Value\n",
    "\n",
    "mse=mean_squared_error(y_test,y_pred)\n",
    "r2=r2_score(y_test,y_pred)\n",
    "\n",
    "\n",
    "\n",
    "print(\"mean square error :\",mse)\n",
    "print(\"R^2 score :\",r2)"
   ]
  },
  {
   "cell_type": "code",
   "execution_count": 62,
   "id": "845c8bb6",
   "metadata": {},
   "outputs": [
    {
     "name": "stdout",
     "output_type": "stream",
     "text": [
      "R² (R Squared): 0.6714\n",
      "Adjusted R² : 0.6658\n"
     ]
    }
   ],
   "source": [
    "# 17.Calculate and print R Squared and Adjusted R Squared values without any library\n",
    "# Convert to NumPy arrays (if not already)\n",
    "import numpy as np\n",
    "\n",
    "y_test = np.array(y_test)\n",
    "y_pred = np.array(y_test_pred)\n",
    "\n",
    "# Step 1: R Squared\n",
    "ss_res = sum((y_test - y_pred) ** 2)           # Residual Sum of Squares\n",
    "ss_tot = sum((y_test - np.mean(y_test)) ** 2)  # Total Sum of Squares\n",
    "\n",
    "r_squared = 1 - (ss_res / ss_tot)\n",
    "\n",
    "# Step 2: Adjusted R Squared\n",
    "n = len(y_test)   # number of observations\n",
    "p = x_test.shape[1]  # number of predictors/features\n",
    "\n",
    "adj_r_squared = 1 - ((1 - r_squared) * (n - 1)) / (n - p - 1)\n",
    "\n",
    "# Print results\n",
    "print(f\"R² (R Squared): {r_squared:.4f}\")\n",
    "print(f\"Adjusted R² : {adj_r_squared:.4f}\")\n"
   ]
  },
  {
   "cell_type": "code",
   "execution_count": 63,
   "id": "7e0fec9a",
   "metadata": {},
   "outputs": [
    {
     "name": "stdout",
     "output_type": "stream",
     "text": [
      "R² (R Squared): 0.6714\n",
      "Adjusted R²   : 0.6658\n"
     ]
    }
   ],
   "source": [
    "from sklearn.metrics import r2_score\n",
    "import numpy as np\n",
    "\n",
    "# Step 1: R Squared\n",
    "r2 = r2_score(y_test, y_test_pred)\n",
    "\n",
    "# Step 2: Adjusted R Squared\n",
    "n = len(y_test)               # number of test samples\n",
    "p = x_test.shape[1]           # number of features (columns)\n",
    "\n",
    "adj_r2 = 1 - (1 - r2) * (n - 1) / (n - p - 1)\n",
    "\n",
    "# Print Results\n",
    "print(f\"R² (R Squared): {r2:.4f}\")\n",
    "print(f\"Adjusted R²   : {adj_r2:.4f}\")\n"
   ]
  },
  {
   "cell_type": "code",
   "execution_count": null,
   "id": "729e0730",
   "metadata": {},
   "outputs": [],
   "source": []
  }
 ],
 "metadata": {
  "kernelspec": {
   "display_name": "Python 3 (ipykernel)",
   "language": "python",
   "name": "python3"
  },
  "language_info": {
   "codemirror_mode": {
    "name": "ipython",
    "version": 3
   },
   "file_extension": ".py",
   "mimetype": "text/x-python",
   "name": "python",
   "nbconvert_exporter": "python",
   "pygments_lexer": "ipython3",
   "version": "3.10.12"
  }
 },
 "nbformat": 4,
 "nbformat_minor": 5
}
