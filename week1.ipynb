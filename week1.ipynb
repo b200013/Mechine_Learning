{
 "cells": [
  {
   "cell_type": "code",
   "execution_count": 1,
   "id": "0b69add0",
   "metadata": {},
   "outputs": [
    {
     "name": "stdout",
     "output_type": "stream",
     "text": [
      "       TransactionID    UserID  ProductID   Quantity\n",
      "count       10.00000  9.000000  10.000000  10.000000\n",
      "mean         5.50000  3.444444   3.400000   2.400000\n",
      "std          3.02765  2.127858   1.074968   1.712698\n",
      "min          1.00000  1.000000   2.000000   1.000000\n",
      "25%          3.25000  2.000000   2.250000   1.000000\n",
      "50%          5.50000  3.000000   4.000000   2.000000\n",
      "75%          7.75000  3.000000   4.000000   3.000000\n",
      "max         10.00000  7.000000   5.000000   6.000000\n"
     ]
    }
   ],
   "source": [
    "#    1. Print Summary of transaction data set\n",
    "import pandas as pd\n",
    "df=pd.read_csv(\"transactions.csv\")\n",
    "\n",
    "print(df.describe())\n",
    "\n"
   ]
  },
  {
   "cell_type": "code",
   "execution_count": 2,
   "id": "aefaf3fe",
   "metadata": {
    "scrolled": true
   },
   "outputs": [
    {
     "name": "stdout",
     "output_type": "stream",
     "text": [
      "10\n",
      "5\n"
     ]
    }
   ],
   "source": [
    "# 2. Print Numbers of Attributes\n",
    "import pandas as pd\n",
    "\n",
    "df=pd.read_csv(\"transactions.csv\")\n",
    "rows,columns=df.shape  #it will return a tuple\n",
    "\n",
    "print(rows)\n",
    "print(columns)\n"
   ]
  },
  {
   "cell_type": "code",
   "execution_count": 3,
   "id": "5ef10f16",
   "metadata": {},
   "outputs": [
    {
     "name": "stdout",
     "output_type": "stream",
     "text": [
      "10\n"
     ]
    }
   ],
   "source": [
    "# 3. Print Numbers of Records\n",
    "\n",
    "print(len(df))"
   ]
  },
  {
   "cell_type": "code",
   "execution_count": 4,
   "id": "43bd60c9",
   "metadata": {},
   "outputs": [
    {
     "name": "stdout",
     "output_type": "stream",
     "text": [
      "RangeIndex(start=0, stop=10, step=1)\n"
     ]
    }
   ],
   "source": [
    "# 4. Get the row names\n",
    "\n",
    "row_names=df.index\n",
    "print(row_names)"
   ]
  },
  {
   "cell_type": "code",
   "execution_count": 5,
   "id": "e9172dba",
   "metadata": {},
   "outputs": [
    {
     "name": "stdout",
     "output_type": "stream",
     "text": [
      "['TransactionID', 'TransactionDate', 'UserID', 'ProductID', 'Quantity']\n"
     ]
    }
   ],
   "source": [
    "# 5. Get the column names\n",
    "\n",
    "c=df.columns\n",
    "print(c.tolist())"
   ]
  },
  {
   "cell_type": "code",
   "execution_count": 6,
   "id": "5ed5cb71",
   "metadata": {},
   "outputs": [
    {
     "name": "stdout",
     "output_type": "stream",
     "text": [
      "   TransactionID TransactionDate  UserID  ProductID  Quantity\n",
      "0              1      2010-08-21     7.0          2         1\n",
      "1              2      2011-05-26     3.0          4         1\n",
      "2              3      2011-06-16     3.0          3         1\n",
      "3              4      2012-08-26     1.0          2         3\n",
      "4              5      2013-06-06     2.0          4         1\n",
      "5              6      2013-12-23     2.0          5         6\n",
      "6              7      2013-12-30     3.0          4         1\n",
      "7              8      2014-04-24     NaN          2         3\n",
      "8              9      2015-04-24     7.0          4         3\n",
      "9             10      2016-05-08     3.0          4         4\n"
     ]
    }
   ],
   "source": [
    "#6. View top 10 Records\n",
    "\n",
    "print(df.head(10))"
   ]
  },
  {
   "cell_type": "code",
   "execution_count": 7,
   "id": "7c5bfa18",
   "metadata": {},
   "outputs": [
    {
     "name": "stdout",
     "output_type": "stream",
     "text": [
      "   TransactionID TransactionDate  UserID  ProductID  Quant\n",
      "0              1      2010-08-21     7.0          2      1\n",
      "1              2      2011-05-26     3.0          4      1\n",
      "2              3      2011-06-16     3.0          3      1\n",
      "3              4      2012-08-26     1.0          2      3\n",
      "4              5      2013-06-06     2.0          4      1\n",
      "5              6      2013-12-23     2.0          5      6\n",
      "6              7      2013-12-30     3.0          4      1\n",
      "7              8      2014-04-24     NaN          2      3\n",
      "8              9      2015-04-24     7.0          4      3\n",
      "9             10      2016-05-08     3.0          4      4\n"
     ]
    }
   ],
   "source": [
    "#7.Change the name of column “ Quantity” to “Quant”\n",
    "\n",
    "df.rename(columns={\"Quantity\":\"Quant\"} ,inplace=True)\n",
    "print(df)"
   ]
  },
  {
   "cell_type": "code",
   "execution_count": 8,
   "id": "b083231c",
   "metadata": {},
   "outputs": [
    {
     "name": "stdout",
     "output_type": "stream",
     "text": [
      "   TransactionID TransactionDate  UID  PID  Quant\n",
      "0              1      2010-08-21  7.0    2      1\n",
      "1              2      2011-05-26  3.0    4      1\n",
      "2              3      2011-06-16  3.0    3      1\n",
      "3              4      2012-08-26  1.0    2      3\n",
      "4              5      2013-06-06  2.0    4      1\n",
      "5              6      2013-12-23  2.0    5      6\n",
      "6              7      2013-12-30  3.0    4      1\n",
      "7              8      2014-04-24  NaN    2      3\n",
      "8              9      2015-04-24  7.0    4      3\n",
      "9             10      2016-05-08  3.0    4      4\n"
     ]
    }
   ],
   "source": [
    "#8.Change the name of columns ProductID and UserID to PID and UID respectively\n",
    "\n",
    "df.rename(columns={'ProductID': \"PID\",\"UserID\":\"UID\"},inplace=True)\n",
    "print(df)"
   ]
  },
  {
   "cell_type": "code",
   "execution_count": 9,
   "id": "b51194bf",
   "metadata": {},
   "outputs": [
    {
     "name": "stdout",
     "output_type": "stream",
     "text": [
      "   TransactionID TransactionDate  UID  PID  Quant\n",
      "0              1      2010-08-21  7.0    2      1\n",
      "1              2      2011-05-26  3.0    4      1\n",
      "2              3      2011-06-16  3.0    3      1\n",
      "3              4      2012-08-26  1.0    2      3\n",
      "4              5      2013-06-06  2.0    4      1\n",
      "5              6      2013-12-23  2.0    5      6\n",
      "6              7      2013-12-30  3.0    4      1\n",
      "7              8      2014-04-24  NaN    2      3\n",
      "8              9      2015-04-24  7.0    4      3\n",
      "9             10      2016-05-08  3.0    4      4\n",
      "   TransactionID TransactionDate  UID  PID  Quant\n",
      "9             10      2016-05-08  3.0    4      4\n",
      "8              9      2015-04-24  7.0    4      3\n",
      "7              8      2014-04-24  NaN    2      3\n",
      "6              7      2013-12-30  3.0    4      1\n",
      "5              6      2013-12-23  2.0    5      6\n",
      "4              5      2013-06-06  2.0    4      1\n",
      "3              4      2012-08-26  1.0    2      3\n",
      "2              3      2011-06-16  3.0    3      1\n",
      "1              2      2011-05-26  3.0    4      1\n",
      "0              1      2010-08-21  7.0    2      1\n",
      "   TransactionID TransactionDate  UID  PID  Quant\n",
      "9             10      2016-05-08  3.0    4      4\n",
      "8              9      2015-04-24  7.0    4      3\n",
      "7              8      2014-04-24  NaN    2      3\n",
      "6              7      2013-12-30  3.0    4      1\n",
      "5              6      2013-12-23  2.0    5      6\n",
      "4              5      2013-06-06  2.0    4      1\n",
      "3              4      2012-08-26  1.0    2      3\n",
      "2              3      2011-06-16  3.0    3      1\n",
      "1              2      2011-05-26  3.0    4      1\n",
      "0              1      2010-08-21  7.0    2      1\n"
     ]
    }
   ],
   "source": [
    "#9. Order the rows of transactions by TransactionId descending, if ascending then ascending=True\n",
    "\n",
    "\n",
    "df_sorted_ascending=df.sort_values(by=[\"TransactionID\"],ascending=True)\n",
    "df_sorted_decending=df.sort_values(by=['TransactionID'], ascending=False)\n",
    "\n",
    "print(df_sorted_ascending)\n",
    "print(df_sorted_decending)\n",
    "\n",
    "\n",
    "\n",
    "\n",
    "\n",
    "df.sort_values(by=['TransactionID'],ascending=False,inplace=True)\n",
    "print(df)"
   ]
  },
  {
   "cell_type": "code",
   "execution_count": 10,
   "id": "5bd2eaf3",
   "metadata": {},
   "outputs": [
    {
     "name": "stdout",
     "output_type": "stream",
     "text": [
      "   TransactionID TransactionDate  UID  PID  Quant\n",
      "6              7      2013-12-30  3.0    4      1\n",
      "4              5      2013-06-06  2.0    4      1\n",
      "2              3      2011-06-16  3.0    3      1\n",
      "1              2      2011-05-26  3.0    4      1\n",
      "0              1      2010-08-21  7.0    2      1\n",
      "8              9      2015-04-24  7.0    4      3\n",
      "7              8      2014-04-24  NaN    2      3\n",
      "3              4      2012-08-26  1.0    2      3\n",
      "9             10      2016-05-08  3.0    4      4\n",
      "5              6      2013-12-23  2.0    5      6\n"
     ]
    }
   ],
   "source": [
    "#10. Order the rows of transactions by Quantity ascending, TransactionDate descending\n",
    "\n",
    "df.sort_values(by=['Quant','TransactionDate'],ascending=[True,False] ,inplace=True)\n",
    "print(df)"
   ]
  },
  {
   "cell_type": "code",
   "execution_count": 11,
   "id": "c120c372",
   "metadata": {},
   "outputs": [
    {
     "name": "stdout",
     "output_type": "stream",
     "text": [
      "   TransactionID TransactionDate  UID  PID  Quant\n",
      "6              7      2013-12-30  3.0    4      1\n",
      "4              5      2013-06-06  2.0    4      1\n",
      "2              3      2011-06-16  3.0    3      1\n",
      "1              2      2011-05-26  3.0    4      1\n",
      "0              1      2010-08-21  7.0    2      1\n"
     ]
    }
   ],
   "source": [
    "df_sorted = df.sort_values(by=[\"Quant\", \"TransactionDate\"],ascending=[True, False])\n",
    "print(df_sorted.head())"
   ]
  },
  {
   "cell_type": "code",
   "execution_count": 12,
   "id": "555f0862",
   "metadata": {},
   "outputs": [
    {
     "name": "stdout",
     "output_type": "stream",
     "text": [
      "   PID  Quant TransactionDate  TransactionID  UID\n",
      "6    4      1      2013-12-30              7  3.0\n",
      "4    4      1      2013-06-06              5  2.0\n",
      "2    3      1      2011-06-16              3  3.0\n",
      "1    4      1      2011-05-26              2  3.0\n",
      "0    2      1      2010-08-21              1  7.0\n",
      "8    4      3      2015-04-24              9  7.0\n",
      "7    2      3      2014-04-24              8  NaN\n",
      "3    2      3      2012-08-26              4  1.0\n",
      "9    4      4      2016-05-08             10  3.0\n",
      "5    5      6      2013-12-23              6  2.0\n"
     ]
    }
   ],
   "source": [
    "# 11. Set the column order of Transactions as ProductID, Quantity, TransactionDate, TransactionID, UserID\n",
    "\n",
    "\n",
    "df_reordered=df[['PID', 'Quant', 'TransactionDate', 'TransactionID', 'UID']]\n",
    "print(df_reordered)"
   ]
  },
  {
   "cell_type": "code",
   "execution_count": 13,
   "id": "42aba751",
   "metadata": {},
   "outputs": [
    {
     "name": "stdout",
     "output_type": "stream",
     "text": [
      "   UID  PID  Quant TransactionDate  TransactionID\n",
      "6  3.0    4      1      2013-12-30              7\n",
      "4  2.0    4      1      2013-06-06              5\n",
      "2  3.0    3      1      2011-06-16              3\n",
      "1  3.0    4      1      2011-05-26              2\n",
      "0  7.0    2      1      2010-08-21              1\n",
      "8  7.0    4      3      2015-04-24              9\n",
      "7  NaN    2      3      2014-04-24              8\n",
      "3  1.0    2      3      2012-08-26              4\n",
      "9  3.0    4      4      2016-05-08             10\n",
      "5  2.0    5      6      2013-12-23              6\n"
     ]
    }
   ],
   "source": [
    "# 12. Make UserID the first column of transactions\n",
    "\n",
    "df_reordered=df[['UID','PID', 'Quant', 'TransactionDate', 'TransactionID']]\n",
    "print(df_reordered)"
   ]
  },
  {
   "cell_type": "code",
   "execution_count": 14,
   "id": "ca1b4dee",
   "metadata": {},
   "outputs": [
    {
     "name": "stdout",
     "output_type": "stream",
     "text": [
      "   TransactionID TransactionDate  UID  PID  Quant\n",
      "6              7      2013-12-30  3.0    4      1\n",
      "4              5      2013-06-06  2.0    4      1\n",
      "2              3      2011-06-16  3.0    3      1\n",
      "1              2      2011-05-26  3.0    4      1\n",
      "0              1      2010-08-21  7.0    2      1\n",
      "8              9      2015-04-24  7.0    4      3\n",
      "7              8      2014-04-24  NaN    2      3\n",
      "3              4      2012-08-26  1.0    2      3\n",
      "9             10      2016-05-08  3.0    4      4\n",
      "5              6      2013-12-23  2.0    5      6\n",
      "\n",
      "Second column as NumPy array:\n",
      "['2013-12-30' '2013-06-06' '2011-06-16' '2011-05-26' '2010-08-21'\n",
      " '2015-04-24' '2014-04-24' '2012-08-26' '2016-05-08' '2013-12-23']\n"
     ]
    }
   ],
   "source": [
    "# 13. Extracting arrays from a Data Frame. Get the 2nd column\n",
    "\n",
    "print(df)\n",
    "second_column_array = df.iloc[:, 1].to_numpy() #we can also use .values instead of to_numpy()\n",
    "print(\"\\nSecond column as NumPy array:\")\n",
    "print(second_column_array)\n"
   ]
  },
  {
   "cell_type": "code",
   "execution_count": 15,
   "id": "ff16e19f",
   "metadata": {},
   "outputs": [
    {
     "name": "stdout",
     "output_type": "stream",
     "text": [
      "\n",
      "Second column as NumPy array:\n",
      "['2013-12-30' '2013-06-06' '2011-06-16' '2011-05-26' '2010-08-21'\n",
      " '2015-04-24' '2014-04-24' '2012-08-26' '2016-05-08' '2013-12-23']\n"
     ]
    }
   ],
   "source": [
    "second_column_array = df.iloc[:, 1].values\n",
    "print(\"\\nSecond column as NumPy array:\")\n",
    "print(second_column_array)\n"
   ]
  },
  {
   "cell_type": "code",
   "execution_count": 16,
   "id": "33ee6c69",
   "metadata": {},
   "outputs": [
    {
     "name": "stdout",
     "output_type": "stream",
     "text": [
      "[4 4 3 4 2 4 2 2 4 5]\n"
     ]
    }
   ],
   "source": [
    "# 14. Get the ProductID Array\n",
    "\n",
    "product_id_array=df.iloc[:,3].to_numpy()\n",
    "print(product_id_array)"
   ]
  },
  {
   "cell_type": "code",
   "execution_count": 17,
   "id": "22725360",
   "metadata": {},
   "outputs": [
    {
     "name": "stdout",
     "output_type": "stream",
     "text": [
      "   TransactionID TransactionDate  UID  PID  Quant\n",
      "6              7      2013-12-30  3.0    4      1\n",
      "2              3      2011-06-16  3.0    3      1\n",
      "8              9      2015-04-24  7.0    4      3\n"
     ]
    }
   ],
   "source": [
    "#16.Row subsetting, subset rows 1,3 and 6\n",
    "\n",
    "subset_rows = df.iloc[[0, 2, 5]]\n",
    "print(subset_rows)\n"
   ]
  },
  {
   "cell_type": "code",
   "execution_count": 18,
   "id": "3962837e",
   "metadata": {},
   "outputs": [
    {
     "name": "stdout",
     "output_type": "stream",
     "text": [
      "   TransactionID TransactionDate  UID  PID  Quant\n",
      "4              5      2013-06-06  2.0    4      1\n",
      "0              1      2010-08-21  7.0    2      1\n",
      "3              4      2012-08-26  1.0    2      3\n",
      "9             10      2016-05-08  3.0    4      4\n",
      "5              6      2013-12-23  2.0    5      6\n",
      "\n",
      "\n",
      "\n",
      "   TransactionID TransactionDate  UID  PID  Quant\n",
      "4              5      2013-06-06  2.0    4      1\n",
      "1              2      2011-05-26  3.0    4      1\n",
      "8              9      2015-04-24  7.0    4      3\n",
      "3              4      2012-08-26  1.0    2      3\n"
     ]
    }
   ],
   "source": [
    "# 17. subset rows excluding 1,3 and 6\n",
    "subset_rows = df.iloc[[1,4,7,8,9]]\n",
    "print(subset_rows)\n",
    "\n",
    "\n",
    "# another way \n",
    "print(\"\\n\\n\")\n",
    "sub=df.iloc[1:9:2]\n",
    "print(sub)\n"
   ]
  },
  {
   "cell_type": "code",
   "execution_count": 19,
   "id": "43e4dbb9",
   "metadata": {},
   "outputs": [
    {
     "data": {
      "text/html": [
       "<div>\n",
       "<style scoped>\n",
       "    .dataframe tbody tr th:only-of-type {\n",
       "        vertical-align: middle;\n",
       "    }\n",
       "\n",
       "    .dataframe tbody tr th {\n",
       "        vertical-align: top;\n",
       "    }\n",
       "\n",
       "    .dataframe thead th {\n",
       "        text-align: right;\n",
       "    }\n",
       "</style>\n",
       "<table border=\"1\" class=\"dataframe\">\n",
       "  <thead>\n",
       "    <tr style=\"text-align: right;\">\n",
       "      <th></th>\n",
       "      <th>TransactionID</th>\n",
       "      <th>TransactionDate</th>\n",
       "      <th>UserID</th>\n",
       "      <th>ProductID</th>\n",
       "      <th>Quantity</th>\n",
       "    </tr>\n",
       "  </thead>\n",
       "  <tbody>\n",
       "    <tr>\n",
       "      <th>0</th>\n",
       "      <td>1</td>\n",
       "      <td>2010-08-21</td>\n",
       "      <td>7.0</td>\n",
       "      <td>2</td>\n",
       "      <td>1</td>\n",
       "    </tr>\n",
       "    <tr>\n",
       "      <th>1</th>\n",
       "      <td>2</td>\n",
       "      <td>2011-05-26</td>\n",
       "      <td>3.0</td>\n",
       "      <td>4</td>\n",
       "      <td>1</td>\n",
       "    </tr>\n",
       "    <tr>\n",
       "      <th>2</th>\n",
       "      <td>3</td>\n",
       "      <td>2011-06-16</td>\n",
       "      <td>3.0</td>\n",
       "      <td>3</td>\n",
       "      <td>1</td>\n",
       "    </tr>\n",
       "  </tbody>\n",
       "</table>\n",
       "</div>"
      ],
      "text/plain": [
       "   TransactionID TransactionDate  UserID  ProductID  Quantity\n",
       "0              1      2010-08-21     7.0          2         1\n",
       "1              2      2011-05-26     3.0          4         1\n",
       "2              3      2011-06-16     3.0          3         1"
      ]
     },
     "execution_count": 19,
     "metadata": {},
     "output_type": "execute_result"
    }
   ],
   "source": [
    "#18. Subset the first three rows\n",
    "import pandas as pd\n",
    "df=pd.read_csv(\"transactions.csv\")\n",
    "df.iloc[0:3:1]"
   ]
  },
  {
   "cell_type": "code",
   "execution_count": 20,
   "id": "c4b790fd",
   "metadata": {},
   "outputs": [
    {
     "name": "stdout",
     "output_type": "stream",
     "text": [
      "   TransactionID TransactionDate  UserID  ProductID  Quantity\n",
      "8              9      2015-04-24     7.0          4         3\n",
      "9             10      2016-05-08     3.0          4         4\n",
      "\n",
      "\n",
      "   TransactionID TransactionDate  UserID  ProductID  Quantity\n",
      "8              9      2015-04-24     7.0          4         3\n",
      "9             10      2016-05-08     3.0          4         4\n"
     ]
    }
   ],
   "source": [
    "# 19. Subset the last 2 rows\n",
    "print(df.tail(2))\n",
    "\n",
    "print(\"\\n\")\n",
    "\n",
    "print(df.iloc[len(df)-2:len(df)])"
   ]
  },
  {
   "cell_type": "code",
   "execution_count": 21,
   "id": "f79c0159",
   "metadata": {},
   "outputs": [
    {
     "name": "stdout",
     "output_type": "stream",
     "text": [
      "   TransactionID TransactionDate  UserID  ProductID  Quantity\n",
      "0              1      2010-08-21     7.0          2         1\n",
      "1              2      2011-05-26     3.0          4         1\n",
      "2              3      2011-06-16     3.0          3         1\n",
      "3              4      2012-08-26     1.0          2         3\n",
      "4              5      2013-06-06     2.0          4         1\n",
      "5              6      2013-12-23     2.0          5         6\n",
      "6              7      2013-12-30     3.0          4         1\n",
      "7              8      2014-04-24     NaN          2         3\n",
      "\n",
      "\n",
      "   TransactionID TransactionDate  UserID  ProductID  Quantity\n",
      "0              1      2010-08-21     7.0          2         1\n",
      "1              2      2011-05-26     3.0          4         1\n",
      "2              3      2011-06-16     3.0          3         1\n",
      "3              4      2012-08-26     1.0          2         3\n",
      "4              5      2013-06-06     2.0          4         1\n",
      "5              6      2013-12-23     2.0          5         6\n",
      "6              7      2013-12-30     3.0          4         1\n",
      "7              8      2014-04-24     NaN          2         3\n"
     ]
    }
   ],
   "source": [
    "# 20. Subset rows excluding the last 2 rows\n",
    "\n",
    "print(df.head(8))\n",
    "\n",
    "print(\"\\n\")\n",
    "\n",
    "print(df.iloc[0:len(df)-2])"
   ]
  },
  {
   "cell_type": "code",
   "execution_count": 22,
   "id": "f841c48c",
   "metadata": {},
   "outputs": [
    {
     "name": "stdout",
     "output_type": "stream",
     "text": [
      "   TransactionID TransactionDate  UserID  ProductID  Quantity\n",
      "3              4      2012-08-26     1.0          2         3\n",
      "4              5      2013-06-06     2.0          4         1\n",
      "5              6      2013-12-23     2.0          5         6\n",
      "6              7      2013-12-30     3.0          4         1\n",
      "7              8      2014-04-24     NaN          2         3\n",
      "8              9      2015-04-24     7.0          4         3\n",
      "9             10      2016-05-08     3.0          4         4\n",
      "\n",
      "\n",
      "   TransactionID TransactionDate  UserID  ProductID  Quantity\n",
      "3              4      2012-08-26     1.0          2         3\n",
      "4              5      2013-06-06     2.0          4         1\n",
      "5              6      2013-12-23     2.0          5         6\n",
      "6              7      2013-12-30     3.0          4         1\n",
      "7              8      2014-04-24     NaN          2         3\n",
      "8              9      2015-04-24     7.0          4         3\n",
      "9             10      2016-05-08     3.0          4         4\n"
     ]
    }
   ],
   "source": [
    "# 21. Subset rows excluding the first 3 rows\n",
    "\n",
    "print(df.tail(10-3))\n",
    "\n",
    "print(\"\\n\")\n",
    "\n",
    "print(df.iloc[3:len(df)])"
   ]
  },
  {
   "cell_type": "code",
   "execution_count": 23,
   "id": "513d5dca",
   "metadata": {},
   "outputs": [
    {
     "name": "stdout",
     "output_type": "stream",
     "text": [
      "   TransactionID TransactionDate  UserID  ProductID  Quantity\n",
      "3              4      2012-08-26     1.0          2         3\n",
      "5              6      2013-12-23     2.0          5         6\n",
      "7              8      2014-04-24     NaN          2         3\n",
      "8              9      2015-04-24     7.0          4         3\n",
      "9             10      2016-05-08     3.0          4         4\n"
     ]
    }
   ],
   "source": [
    "#22. Subset rows where Quantity>1\n",
    "s=df[df['Quantity']>1]\n",
    "print(s)"
   ]
  },
  {
   "cell_type": "code",
   "execution_count": 24,
   "id": "c5895a2a",
   "metadata": {},
   "outputs": [
    {
     "name": "stdout",
     "output_type": "stream",
     "text": [
      "   TransactionID TransactionDate  UserID  ProductID  Quantity\n",
      "4              5      2013-06-06     2.0          4         1\n",
      "5              6      2013-12-23     2.0          5         6\n"
     ]
    }
   ],
   "source": [
    "#23. Subset rows where UserID=2\n",
    "\n",
    "s=df[df['UserID']==2]\n",
    "print(s)"
   ]
  },
  {
   "cell_type": "code",
   "execution_count": 25,
   "id": "cf71f6c1",
   "metadata": {},
   "outputs": [
    {
     "name": "stdout",
     "output_type": "stream",
     "text": [
      "   TransactionID TransactionDate  UserID  ProductID  Quantity\n",
      "0              1      2010-08-21     7.0          2         1\n",
      "1              2      2011-05-26     3.0          4         1\n",
      "2              3      2011-06-16     3.0          3         1\n",
      "3              4      2012-08-26     1.0          2         3\n",
      "4              5      2013-06-06     2.0          4         1\n",
      "5              6      2013-12-23     2.0          5         6\n",
      "6              7      2013-12-30     3.0          4         1\n",
      "7              8      2014-04-24     NaN          2         3\n",
      "8              9      2015-04-24     7.0          4         3\n",
      "9             10      2016-05-08     3.0          4         4\n",
      "\n",
      "\n",
      "\n",
      "   TransactionID TransactionDate  UserID  ProductID  Quantity\n",
      "5              6      2013-12-23     2.0          5         6\n"
     ]
    }
   ],
   "source": [
    "#24. Subset rows where Quantity>1 and UserID=2\n",
    "print(df)\n",
    "\n",
    "print(\"\\n\\n\")\n",
    "s=df[ (df['Quantity']>1) & (df['UserID']==2) ]\n",
    "print(s)"
   ]
  },
  {
   "cell_type": "code",
   "execution_count": 26,
   "id": "22f577eb",
   "metadata": {},
   "outputs": [
    {
     "name": "stdout",
     "output_type": "stream",
     "text": [
      "   TransactionID TransactionDate  UserID  ProductID  Quantity\n",
      "0              1      2010-08-21     7.0          2         1\n",
      "1              2      2011-05-26     3.0          4         1\n",
      "2              3      2011-06-16     3.0          3         1\n",
      "3              4      2012-08-26     1.0          2         3\n",
      "5              6      2013-12-23     2.0          5         6\n",
      "6              7      2013-12-30     3.0          4         1\n",
      "8              9      2015-04-24     7.0          4         3\n",
      "9             10      2016-05-08     3.0          4         4\n"
     ]
    }
   ],
   "source": [
    "#25. Subset rows where Quantity + UserID is >3\n",
    "\n",
    "import pandas as pd\n",
    "df=pd.read_csv(\"transactions.csv\")\n",
    "s=df[ (df['Quantity']) + (df['UserID'])>3 ]\n",
    "print(s)\n"
   ]
  },
  {
   "cell_type": "code",
   "execution_count": 27,
   "id": "bdc59afc",
   "metadata": {},
   "outputs": [
    {
     "name": "stdout",
     "output_type": "stream",
     "text": [
      "   TransactionID TransactionDate  UserID  ProductID  Quantity\n",
      "0              1      2010-08-21     7.0          2         1\n",
      "2              3      2011-06-16     3.0          3         1\n"
     ]
    }
   ],
   "source": [
    "# 26. Subset rows where an external array, foo, is True\n",
    "\n",
    "dff=df.head(4)\n",
    "foo = [True, False, True, False] #this is a list of boolean values\n",
    "subset_rows = dff[foo]\n",
    "print(subset_rows)"
   ]
  },
  {
   "cell_type": "code",
   "execution_count": 28,
   "id": "dc13615f",
   "metadata": {},
   "outputs": [
    {
     "name": "stdout",
     "output_type": "stream",
     "text": [
      "   TransactionID TransactionDate  UserID  ProductID  Quantity\n",
      "0              1      2010-08-21     7.0          2         1\n",
      "2              3      2011-06-16     3.0          3         1\n",
      "4              5      2013-06-06     2.0          4         1\n",
      "6              7      2013-12-30     3.0          4         1\n",
      "8              9      2015-04-24     7.0          4         3\n"
     ]
    }
   ],
   "source": [
    "#27. Subset rows where an external array, bar, is positive\n",
    "\n",
    "import numpy as np\n",
    "\n",
    "bar=np.array([1,-1,2,-3,4,-4,5,0,3,-2])\n",
    "\n",
    "subset_rows=df[bar>0]\n",
    "print(subset_rows)"
   ]
  },
  {
   "cell_type": "code",
   "execution_count": 29,
   "id": "6a2a1d10",
   "metadata": {},
   "outputs": [
    {
     "name": "stdout",
     "output_type": "stream",
     "text": [
      "   TransactionID TransactionDate  UserID  ProductID  Quantity\n",
      "5              6      2013-12-23     2.0          5         6\n",
      "9             10      2016-05-08     3.0          4         4\n"
     ]
    }
   ],
   "source": [
    "#28. Subset rows where foo is TRUE or bar is negative\n",
    "\n",
    "\n",
    "foo = [True, False, True, False,True,True,True,False,True,True]\n",
    "bar=np.array([1,-1,2,-3,4,-4,5,0,3,-2])\n",
    "\n",
    "subset_rows=df[(foo) & (bar<0)]\n",
    "print(subset_rows)\n",
    "\n"
   ]
  },
  {
   "cell_type": "code",
   "execution_count": 30,
   "id": "ce89c2ee",
   "metadata": {},
   "outputs": [
    {
     "name": "stdout",
     "output_type": "stream",
     "text": [
      "   TransactionID TransactionDate  UserID  ProductID  Quantity\n",
      "1              2      2011-05-26     3.0          4         1\n",
      "3              4      2012-08-26     1.0          2         3\n",
      "7              8      2014-04-24     NaN          2         3\n"
     ]
    }
   ],
   "source": [
    "#29. Subset the rows where foo is not TRUE and bar is not negative\n",
    "\n",
    "foo = np.array([True, False, True, False,True,True,True,False,True,True])\n",
    "bar=np.array([1,1,2,3,4,-4,5,1,3,-2])\n",
    "\n",
    "subset_rows=df[(~foo) & (bar>0)]\n",
    "print(subset_rows)"
   ]
  },
  {
   "cell_type": "code",
   "execution_count": 31,
   "id": "4bfae542",
   "metadata": {},
   "outputs": [
    {
     "name": "stdout",
     "output_type": "stream",
     "text": [
      "   TransactionID TransactionDate  UserID  ProductID  Quantity\n",
      "0              1      2010-08-21     7.0          2         1\n",
      "1              2      2011-05-26     3.0          4         1\n",
      "2              3      2011-06-16     3.0          3         1\n",
      "3              4      2012-08-26     1.0          2         3\n",
      "4              5      2013-06-06     2.0          4         1\n",
      "5              6      2013-12-23     2.0          5         6\n",
      "6              7      2013-12-30     3.0          4         1\n",
      "7              8      2014-04-24     NaN          2         3\n",
      "8              9      2015-04-24     7.0          4         3\n",
      "9             10      2016-05-08     3.0          4         4\n",
      "\n",
      "\n",
      "  TransactionDate  ProductID\n",
      "0      2010-08-21          2\n",
      "1      2011-05-26          4\n",
      "2      2011-06-16          3\n",
      "3      2012-08-26          2\n",
      "4      2013-06-06          4\n",
      "5      2013-12-23          5\n",
      "6      2013-12-30          4\n",
      "7      2014-04-24          2\n",
      "8      2015-04-24          4\n",
      "9      2016-05-08          4\n"
     ]
    }
   ],
   "source": [
    "#30. Subset by columns 1 and 3\n",
    "print(df)\n",
    "\n",
    "s=df.iloc[:,[1,3]]\n",
    "print(\"\\n\")\n",
    "\n",
    "print(s)"
   ]
  },
  {
   "cell_type": "code",
   "execution_count": 32,
   "id": "0f61330e",
   "metadata": {},
   "outputs": [
    {
     "name": "stdout",
     "output_type": "stream",
     "text": [
      "   TransactionID TransactionDate  UserID  ProductID  Quantity\n",
      "0              1      2010-08-21     7.0          2         1\n",
      "1              2      2011-05-26     3.0          4         1\n",
      "2              3      2011-06-16     3.0          3         1\n",
      "3              4      2012-08-26     1.0          2         3\n",
      "4              5      2013-06-06     2.0          4         1\n",
      "5              6      2013-12-23     2.0          5         6\n",
      "6              7      2013-12-30     3.0          4         1\n",
      "7              8      2014-04-24     NaN          2         3\n",
      "8              9      2015-04-24     7.0          4         3\n",
      "9             10      2016-05-08     3.0          4         4\n",
      "   TransactionID TransactionDate\n",
      "0              1      2010-08-21\n",
      "1              2      2011-05-26\n",
      "2              3      2011-06-16\n",
      "3              4      2012-08-26\n",
      "4              5      2013-06-06\n",
      "5              6      2013-12-23\n",
      "6              7      2013-12-30\n",
      "7              8      2014-04-24\n",
      "8              9      2015-04-24\n",
      "9             10      2016-05-08\n"
     ]
    }
   ],
   "source": [
    "#31. Subset by columns TransactionID and TransactionDate\n",
    "\n",
    "print(df)\n",
    "\n",
    "select_column=['TransactionID','TransactionDate']\n",
    "s=df[select_column]\n",
    "\n",
    "print(s)\n",
    "\n",
    "\n",
    "\n"
   ]
  },
  {
   "cell_type": "code",
   "execution_count": null,
   "id": "ea57a512",
   "metadata": {},
   "outputs": [],
   "source": []
  },
  {
   "cell_type": "code",
   "execution_count": 33,
   "id": "f2b3c6cb",
   "metadata": {},
   "outputs": [
    {
     "name": "stdout",
     "output_type": "stream",
     "text": [
      "   TransactionID TransactionDate\n",
      "3              4      2012-08-26\n",
      "5              6      2013-12-23\n",
      "7              8      2014-04-24\n",
      "8              9      2015-04-24\n",
      "9             10      2016-05-08\n"
     ]
    }
   ],
   "source": [
    "#32. Subset by columns TransactionID and TransactionDate with logical operator\n",
    "subset = df[df['Quantity'] > 1][['TransactionID','TransactionDate']]\n",
    "print(subset)"
   ]
  },
  {
   "cell_type": "code",
   "execution_count": 34,
   "id": "de6c1f9c",
   "metadata": {},
   "outputs": [
    {
     "name": "stdout",
     "output_type": "stream",
     "text": [
      "   TransactionID TransactionDate\n",
      "0              1      2010-08-21\n",
      "1              2      2011-05-26\n",
      "2              3      2011-06-16\n",
      "3              4      2012-08-26\n",
      "4              5      2013-06-06\n",
      "5              6      2013-12-23\n",
      "6              7      2013-12-30\n",
      "7              8      2014-04-24\n",
      "8              9      2015-04-24\n",
      "9             10      2016-05-08\n"
     ]
    }
   ],
   "source": [
    "# 33. Subset columns by a variable list of column names\n",
    "columns_to_select = ['TransactionID', 'TransactionDate']\n",
    "subset_columns = df[columns_to_select]\n",
    "print(subset_columns)"
   ]
  },
  {
   "cell_type": "code",
   "execution_count": 35,
   "id": "70f404ae",
   "metadata": {},
   "outputs": [
    {
     "name": "stdout",
     "output_type": "stream",
     "text": [
      "   TransactionID TransactionDate  UserID\n",
      "0              1      2010-08-21     7.0\n",
      "1              2      2011-05-26     3.0\n",
      "2              3      2011-06-16     3.0\n",
      "3              4      2012-08-26     1.0\n",
      "4              5      2013-06-06     2.0\n",
      "5              6      2013-12-23     2.0\n",
      "6              7      2013-12-30     3.0\n",
      "7              8      2014-04-24     NaN\n",
      "8              9      2015-04-24     7.0\n",
      "9             10      2016-05-08     3.0\n"
     ]
    }
   ],
   "source": [
    "#34. Subset columns excluding a variable list of column names\n",
    "columns_to_exclude = ['Quantity', 'ProductID']\n",
    "subset_columns_excluded = df[[col for col in df.columns if col not in columns_to_exclude]]\n",
    "print(subset_columns_excluded)"
   ]
  },
  {
   "cell_type": "code",
   "execution_count": 43,
   "id": "fca24eae",
   "metadata": {},
   "outputs": [
    {
     "name": "stdout",
     "output_type": "stream",
     "text": [
      "   TransactionID TransactionDate  UserID  ProductID  Quantity\n",
      "0              1      2010-08-21     7.0          2         1\n",
      "1              2      2011-05-26     3.0          4         1\n",
      "2              3      2011-06-16     3.0          3         1\n",
      "3              4      2012-08-26     1.0          2         3\n",
      "4              5      2013-06-06     2.0          4         1\n",
      "5              6      2013-12-23     2.0          5         6\n",
      "6              7      2013-12-30     3.0          4         1\n",
      "7              8      2014-04-24     NaN          2         3\n",
      "8              9      2015-04-24     7.0          4         3\n",
      "9             10      2016-05-08     3.0          4         4\n",
      "    TransactionID TransactionDate  UserID  ProductID  Quantity\n",
      "0               1      2010-08-21     7.0          2         1\n",
      "1               2      2011-05-26     3.0          4         1\n",
      "2               3      2011-06-16     3.0          3         1\n",
      "3               4      2012-08-26     1.0          2         3\n",
      "4               5      2013-06-06     2.0          4         1\n",
      "5               6      2013-12-23     2.0          5         6\n",
      "6               7      2013-12-30     3.0          4         1\n",
      "7               8      2014-04-24     NaN          2         3\n",
      "8               9      2015-04-24     7.0          4         3\n",
      "9              10      2016-05-08     3.0          4         4\n",
      "10            111      2003-12-02   111.0        111       111\n",
      "\n",
      "\n",
      "\n",
      "    TransactionID TransactionDate  UserID  ProductID  Quantity\n",
      "0               1      2010-08-21     7.0          2         1\n",
      "1               2      2011-05-26     3.0          4         1\n",
      "2               3      2011-06-16     3.0          3         1\n",
      "3               4      2012-08-26     1.0          2         3\n",
      "4               5      2013-06-06     2.0          4       222\n",
      "5               6      2013-12-23     2.0          5       222\n",
      "6               7      2013-12-30     3.0          4         1\n",
      "7               8      2014-04-24     NaN          2         3\n",
      "8               9      2015-04-24     7.0          4         3\n",
      "9              10      2016-05-08     3.0          4         4\n",
      "10            111      2003-12-02   111.0        111       111\n",
      "\n",
      "\n",
      "\n",
      "    TransactionID TransactionDate  UserID  ProductID  Quantity    Foo\n",
      "0               1      2010-08-21     7.0          2         1    9.0\n",
      "1               2      2011-05-26     3.0          4         1    7.0\n",
      "2               3      2011-06-16     3.0          3         1    6.0\n",
      "3               4      2012-08-26     1.0          2         3    3.0\n",
      "4               5      2013-06-06     2.0          4       222    6.0\n",
      "5               6      2013-12-23     2.0          5       222    7.0\n",
      "6               7      2013-12-30     3.0          4         1    7.0\n",
      "7               8      2014-04-24     NaN          2         3    NaN\n",
      "8               9      2015-04-24     7.0          4         3   11.0\n",
      "9              10      2016-05-08     3.0          4         4    7.0\n",
      "10            111      2003-12-02   111.0        111       111  222.0\n"
     ]
    }
   ],
   "source": [
    "#35. Inserting and updating values\n",
    "import pandas as pd\n",
    "df=pd.read_csv(\"transactions.csv\")\n",
    "\n",
    "\n",
    "print(df)\n",
    "df.loc[len(df)] = [111,'2003-12-02',111,111,111]\n",
    "print(df)\n",
    "\n",
    "print(\"\\n\\n\")\n",
    "df.loc[df['UserID'] == 2, 'Quantity'] = 222\n",
    "print(df)\n",
    "\n",
    "\n",
    "print(\"\\n\\n\")\n",
    "df['Foo'] = df['UserID'] + df['ProductID']\n",
    "print(df)"
   ]
  },
  {
   "cell_type": "code",
   "execution_count": 45,
   "id": "c8a82016",
   "metadata": {},
   "outputs": [
    {
     "name": "stdout",
     "output_type": "stream",
     "text": [
      "TransactionID               int64\n",
      "TransactionDate    datetime64[ns]\n",
      "UserID                    float64\n",
      "ProductID                   int64\n",
      "Quantity                    int64\n",
      "Foo                       float64\n",
      "dtype: object\n"
     ]
    }
   ],
   "source": [
    "# #36. Convert the TransactionDate column to type Date\n",
    "df['TransactionDate'] = pd.to_datetime(df['TransactionDate'])\n",
    "print(df.dtypes)"
   ]
  },
  {
   "cell_type": "code",
   "execution_count": 38,
   "id": "d72f0ac7",
   "metadata": {},
   "outputs": [
    {
     "name": "stdout",
     "output_type": "stream",
     "text": [
      "   TransactionID TransactionDate  UserID  ProductID  Quantity  Foo\n",
      "0              1      2010-08-21     7.0          2         1  9.0\n",
      "1              2      2011-05-26     3.0          4         1  7.0\n",
      "2              3      2011-06-16     3.0          3         1  6.0\n",
      "3              4      2012-08-26     1.0          2         3  3.0\n",
      "4              5      2013-06-06     2.0          4       222  6.0\n"
     ]
    }
   ],
   "source": [
    "#37. Insert a new column, Foo=UserID+ProductID\n",
    "\n",
    "df['Foo'] = df['UserID'] + df['ProductID']\n",
    "print(df.head())"
   ]
  },
  {
   "cell_type": "code",
   "execution_count": null,
   "id": "649ce49d",
   "metadata": {},
   "outputs": [],
   "source": []
  },
  {
   "cell_type": "code",
   "execution_count": null,
   "id": "1cbb3047",
   "metadata": {},
   "outputs": [],
   "source": []
  },
  {
   "cell_type": "code",
   "execution_count": null,
   "id": "2cc66e16",
   "metadata": {},
   "outputs": [],
   "source": []
  },
  {
   "cell_type": "code",
   "execution_count": null,
   "id": "0fa6b59e",
   "metadata": {},
   "outputs": [],
   "source": []
  },
  {
   "cell_type": "code",
   "execution_count": null,
   "id": "4c7d1edb",
   "metadata": {},
   "outputs": [],
   "source": []
  }
 ],
 "metadata": {
  "kernelspec": {
   "display_name": "Python 3 (ipykernel)",
   "language": "python",
   "name": "python3"
  },
  "language_info": {
   "codemirror_mode": {
    "name": "ipython",
    "version": 3
   },
   "file_extension": ".py",
   "mimetype": "text/x-python",
   "name": "python",
   "nbconvert_exporter": "python",
   "pygments_lexer": "ipython3",
   "version": "3.10.12"
  }
 },
 "nbformat": 4,
 "nbformat_minor": 5
}
